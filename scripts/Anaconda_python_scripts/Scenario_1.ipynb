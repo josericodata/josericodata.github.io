{
 "cells": [
  {
   "cell_type": "code",
   "execution_count": 1,
   "metadata": {},
   "outputs": [],
   "source": [
    "import pymysql #Allows the connection to mysql\n",
    "import pandas as pd #We need pandas to obtain a Data Frame\n",
    "import getpass # function to prompt a cell to write down our password\n",
    "from sqlalchemy import create_engine #Method to produce an engine based on a URL, that includes, host, user....\n"
   ]
  },
  {
   "cell_type": "code",
   "execution_count": 2,
   "metadata": {},
   "outputs": [
    {
     "name": "stdout",
     "output_type": "stream",
     "text": [
      "Please enter your MySQL password········\n"
     ]
    }
   ],
   "source": [
    "user = getpass.getuser()\n",
    "password = getpass.getpass(prompt=\"Please enter your MySQL password\",stream=None)\n",
    "engine = create_engine('mysql+pymysql://{}:{}@localhost:3306/classicmodels'.format(user,password))\n",
    "connection = pymysql.connect(host='localhost',user=user,password=password,db='classicmodels')"
   ]
  },
  {
   "cell_type": "code",
   "execution_count": 3,
   "metadata": {},
   "outputs": [],
   "source": [
    "q=\"\"\"SELECT employeeNumber, firstName, email FROM employees;\"\"\" "
   ]
  },
  {
   "cell_type": "code",
   "execution_count": 4,
   "metadata": {},
   "outputs": [],
   "source": [
    "employees=pd.read_sql_query(q,engine)"
   ]
  },
  {
   "cell_type": "code",
   "execution_count": 5,
   "metadata": {
    "scrolled": false
   },
   "outputs": [
    {
     "data": {
      "text/html": [
       "<div>\n",
       "<style scoped>\n",
       "    .dataframe tbody tr th:only-of-type {\n",
       "        vertical-align: middle;\n",
       "    }\n",
       "\n",
       "    .dataframe tbody tr th {\n",
       "        vertical-align: top;\n",
       "    }\n",
       "\n",
       "    .dataframe thead th {\n",
       "        text-align: right;\n",
       "    }\n",
       "</style>\n",
       "<table border=\"1\" class=\"dataframe\">\n",
       "  <thead>\n",
       "    <tr style=\"text-align: right;\">\n",
       "      <th></th>\n",
       "      <th>employeeNumber</th>\n",
       "      <th>firstName</th>\n",
       "      <th>email</th>\n",
       "    </tr>\n",
       "  </thead>\n",
       "  <tbody>\n",
       "    <tr>\n",
       "      <th>0</th>\n",
       "      <td>1002</td>\n",
       "      <td>Diane</td>\n",
       "      <td>dmurphy@classicmodelcars.com</td>\n",
       "    </tr>\n",
       "    <tr>\n",
       "      <th>1</th>\n",
       "      <td>1056</td>\n",
       "      <td>Mary</td>\n",
       "      <td>mpatterso@classicmodelcars.com</td>\n",
       "    </tr>\n",
       "    <tr>\n",
       "      <th>2</th>\n",
       "      <td>1076</td>\n",
       "      <td>Jeff</td>\n",
       "      <td>jfirrelli@classicmodelcars.com</td>\n",
       "    </tr>\n",
       "    <tr>\n",
       "      <th>3</th>\n",
       "      <td>1088</td>\n",
       "      <td>William</td>\n",
       "      <td>wpatterson@classicmodelcars.com</td>\n",
       "    </tr>\n",
       "    <tr>\n",
       "      <th>4</th>\n",
       "      <td>1102</td>\n",
       "      <td>Gerard</td>\n",
       "      <td>gbondur@classicmodelcars.com</td>\n",
       "    </tr>\n",
       "    <tr>\n",
       "      <th>5</th>\n",
       "      <td>1143</td>\n",
       "      <td>Anthony</td>\n",
       "      <td>abow@classicmodelcars.com</td>\n",
       "    </tr>\n",
       "    <tr>\n",
       "      <th>6</th>\n",
       "      <td>1165</td>\n",
       "      <td>Leslie</td>\n",
       "      <td>ljennings@classicmodelcars.com</td>\n",
       "    </tr>\n",
       "    <tr>\n",
       "      <th>7</th>\n",
       "      <td>1166</td>\n",
       "      <td>Leslie</td>\n",
       "      <td>lthompson@classicmodelcars.com</td>\n",
       "    </tr>\n",
       "    <tr>\n",
       "      <th>8</th>\n",
       "      <td>1188</td>\n",
       "      <td>Julie</td>\n",
       "      <td>jfirrelli@classicmodelcars.com</td>\n",
       "    </tr>\n",
       "    <tr>\n",
       "      <th>9</th>\n",
       "      <td>1216</td>\n",
       "      <td>Steve</td>\n",
       "      <td>spatterson@classicmodelcars.com</td>\n",
       "    </tr>\n",
       "    <tr>\n",
       "      <th>10</th>\n",
       "      <td>1286</td>\n",
       "      <td>Foon Yue</td>\n",
       "      <td>ftseng@classicmodelcars.com</td>\n",
       "    </tr>\n",
       "    <tr>\n",
       "      <th>11</th>\n",
       "      <td>1323</td>\n",
       "      <td>George</td>\n",
       "      <td>gvanauf@classicmodelcars.com</td>\n",
       "    </tr>\n",
       "    <tr>\n",
       "      <th>12</th>\n",
       "      <td>1337</td>\n",
       "      <td>Loui</td>\n",
       "      <td>lbondur@classicmodelcars.com</td>\n",
       "    </tr>\n",
       "    <tr>\n",
       "      <th>13</th>\n",
       "      <td>1370</td>\n",
       "      <td>Gerard</td>\n",
       "      <td>ghernande@classicmodelcars.com</td>\n",
       "    </tr>\n",
       "    <tr>\n",
       "      <th>14</th>\n",
       "      <td>1401</td>\n",
       "      <td>Pamela</td>\n",
       "      <td>pcastillo@classicmodelcars.com</td>\n",
       "    </tr>\n",
       "    <tr>\n",
       "      <th>15</th>\n",
       "      <td>1501</td>\n",
       "      <td>Larry</td>\n",
       "      <td>lbott@classicmodelcars.com</td>\n",
       "    </tr>\n",
       "    <tr>\n",
       "      <th>16</th>\n",
       "      <td>1504</td>\n",
       "      <td>Barry</td>\n",
       "      <td>bjones@classicmodelcars.com</td>\n",
       "    </tr>\n",
       "    <tr>\n",
       "      <th>17</th>\n",
       "      <td>1611</td>\n",
       "      <td>Andy</td>\n",
       "      <td>afixter@classicmodelcars.com</td>\n",
       "    </tr>\n",
       "    <tr>\n",
       "      <th>18</th>\n",
       "      <td>1612</td>\n",
       "      <td>Peter</td>\n",
       "      <td>pmarsh@classicmodelcars.com</td>\n",
       "    </tr>\n",
       "    <tr>\n",
       "      <th>19</th>\n",
       "      <td>1619</td>\n",
       "      <td>Tom</td>\n",
       "      <td>tking@classicmodelcars.com</td>\n",
       "    </tr>\n",
       "    <tr>\n",
       "      <th>20</th>\n",
       "      <td>1621</td>\n",
       "      <td>Mami</td>\n",
       "      <td>mnishi@classicmodelcars.com</td>\n",
       "    </tr>\n",
       "    <tr>\n",
       "      <th>21</th>\n",
       "      <td>1625</td>\n",
       "      <td>Yoshimi</td>\n",
       "      <td>ykato@classicmodelcars.com</td>\n",
       "    </tr>\n",
       "    <tr>\n",
       "      <th>22</th>\n",
       "      <td>1702</td>\n",
       "      <td>Martin</td>\n",
       "      <td>mgerard@classicmodelcars.com</td>\n",
       "    </tr>\n",
       "  </tbody>\n",
       "</table>\n",
       "</div>"
      ],
      "text/plain": [
       "    employeeNumber firstName                            email\n",
       "0             1002     Diane     dmurphy@classicmodelcars.com\n",
       "1             1056      Mary   mpatterso@classicmodelcars.com\n",
       "2             1076      Jeff   jfirrelli@classicmodelcars.com\n",
       "3             1088   William  wpatterson@classicmodelcars.com\n",
       "4             1102    Gerard     gbondur@classicmodelcars.com\n",
       "5             1143   Anthony        abow@classicmodelcars.com\n",
       "6             1165    Leslie   ljennings@classicmodelcars.com\n",
       "7             1166    Leslie   lthompson@classicmodelcars.com\n",
       "8             1188     Julie   jfirrelli@classicmodelcars.com\n",
       "9             1216     Steve  spatterson@classicmodelcars.com\n",
       "10            1286  Foon Yue      ftseng@classicmodelcars.com\n",
       "11            1323    George     gvanauf@classicmodelcars.com\n",
       "12            1337      Loui     lbondur@classicmodelcars.com\n",
       "13            1370    Gerard   ghernande@classicmodelcars.com\n",
       "14            1401    Pamela   pcastillo@classicmodelcars.com\n",
       "15            1501     Larry       lbott@classicmodelcars.com\n",
       "16            1504     Barry      bjones@classicmodelcars.com\n",
       "17            1611      Andy     afixter@classicmodelcars.com\n",
       "18            1612     Peter      pmarsh@classicmodelcars.com\n",
       "19            1619       Tom       tking@classicmodelcars.com\n",
       "20            1621      Mami      mnishi@classicmodelcars.com\n",
       "21            1625   Yoshimi       ykato@classicmodelcars.com\n",
       "22            1702    Martin     mgerard@classicmodelcars.com"
      ]
     },
     "execution_count": 5,
     "metadata": {},
     "output_type": "execute_result"
    }
   ],
   "source": [
    "pd.DataFrame(employees, columns=['employeeNumber', 'firstName', 'email' ])\n"
   ]
  },
  {
   "cell_type": "code",
   "execution_count": 6,
   "metadata": {},
   "outputs": [
    {
     "name": "stdout",
     "output_type": "stream",
     "text": [
      "Number of Rows: 23\n",
      "Number of Columns: 3\n"
     ]
    }
   ],
   "source": [
    "print('Number of Rows:',len(employees))\n",
    "print('Number of Columns:',len(employees.columns))"
   ]
  }
 ],
 "metadata": {
  "kernelspec": {
   "display_name": "Python 3 (ipykernel)",
   "language": "python",
   "name": "python3"
  },
  "language_info": {
   "codemirror_mode": {
    "name": "ipython",
    "version": 3
   },
   "file_extension": ".py",
   "mimetype": "text/x-python",
   "name": "python",
   "nbconvert_exporter": "python",
   "pygments_lexer": "ipython3",
   "version": "3.9.12"
  }
 },
 "nbformat": 4,
 "nbformat_minor": 2
}
