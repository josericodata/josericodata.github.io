{
 "cells": [
  {
   "cell_type": "code",
   "execution_count": 1,
   "metadata": {},
   "outputs": [],
   "source": [
    "import pymysql #Allows the connection to mysql\n",
    "import pandas as pd #We need pandas to obtain a Data Frame\n",
    "import getpass # function to prompt a cell to write down our password\n",
    "from sqlalchemy import create_engine #Method to produce an engine based on a URL, that includes, host, user...."
   ]
  },
  {
   "cell_type": "code",
   "execution_count": 2,
   "metadata": {},
   "outputs": [
    {
     "name": "stdout",
     "output_type": "stream",
     "text": [
      "Please enter your MySQL password········\n"
     ]
    }
   ],
   "source": [
    "user = getpass.getuser()\n",
    "password = getpass.getpass(prompt=\"Please enter your MySQL password\",stream=None)\n",
    "engine = create_engine('mysql+pymysql://{}:{}@localhost:3306/classicmodels'.format(user,password))\n",
    "connection = pymysql.connect(host='localhost',user=user,password=password,db='classicmodels')"
   ]
  },
  {
   "cell_type": "code",
   "execution_count": 3,
   "metadata": {},
   "outputs": [],
   "source": [
    "a=\"\"\"SELECT * FROM orders;\"\"\" "
   ]
  },
  {
   "cell_type": "code",
   "execution_count": 4,
   "metadata": {},
   "outputs": [],
   "source": [
    "orders=pd.read_sql_query(a,engine)"
   ]
  },
  {
   "cell_type": "code",
   "execution_count": 5,
   "metadata": {},
   "outputs": [
    {
     "name": "stdout",
     "output_type": "stream",
     "text": [
      "Number of Rows: 326\n"
     ]
    }
   ],
   "source": [
    "print('Number of Rows:',len(orders)) #First count"
   ]
  },
  {
   "cell_type": "code",
   "execution_count": 6,
   "metadata": {},
   "outputs": [
    {
     "name": "stdout",
     "output_type": "stream",
     "text": [
      "Numbers of orders placed from customer 124: 17\n"
     ]
    }
   ],
   "source": [
    "print('Numbers of orders placed from customer 124:',orders[orders.customerNumber == 124].shape[0])"
   ]
  },
  {
   "cell_type": "code",
   "execution_count": 7,
   "metadata": {},
   "outputs": [
    {
     "name": "stdout",
     "output_type": "stream",
     "text": [
      "Numbers of orders placed from customer 141: 26\n"
     ]
    }
   ],
   "source": [
    "print('Numbers of orders placed from customer 141:',orders[orders.customerNumber == 141].shape[0]) "
   ]
  },
  {
   "cell_type": "code",
   "execution_count": 8,
   "metadata": {},
   "outputs": [],
   "source": [
    "#Converting Obj customerNumber column into string, we need this to be able to drop Values.\n",
    "#not able to drop integers with that function.\n",
    "orders['customerNumber'] = orders['customerNumber'].apply(str)"
   ]
  },
  {
   "cell_type": "code",
   "execution_count": 9,
   "metadata": {},
   "outputs": [],
   "source": [
    "#Dropping customer 124 & 141 rows\n",
    "orders=orders[~orders.customerNumber.str.contains('124',case=False,na=False)]# Here we set the drop value\n",
    "orders=orders[~orders.customerNumber.str.contains('141',case=False,na=False)]"
   ]
  },
  {
   "cell_type": "code",
   "execution_count": 10,
   "metadata": {},
   "outputs": [
    {
     "name": "stdout",
     "output_type": "stream",
     "text": [
      "Number of Rows: 283\n"
     ]
    }
   ],
   "source": [
    "print('Number of Rows:',len(orders)) #Second count"
   ]
  }
 ],
 "metadata": {
  "kernelspec": {
   "display_name": "Python 3 (ipykernel)",
   "language": "python",
   "name": "python3"
  },
  "language_info": {
   "codemirror_mode": {
    "name": "ipython",
    "version": 3
   },
   "file_extension": ".py",
   "mimetype": "text/x-python",
   "name": "python",
   "nbconvert_exporter": "python",
   "pygments_lexer": "ipython3",
   "version": "3.9.12"
  }
 },
 "nbformat": 4,
 "nbformat_minor": 2
}
