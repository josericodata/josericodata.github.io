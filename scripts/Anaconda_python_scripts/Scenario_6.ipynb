{
 "cells": [
  {
   "cell_type": "code",
   "execution_count": 1,
   "metadata": {},
   "outputs": [],
   "source": [
    "import pymysql #Allows the connection to mysql\n",
    "import pandas as pd #We need pandas to obtain a Data Frame\n",
    "import getpass # function to prompt a cell to write down our password\n",
    "from sqlalchemy import create_engine #Method to produce an engine based on a URL, that includes, host, user...."
   ]
  },
  {
   "cell_type": "code",
   "execution_count": 2,
   "metadata": {},
   "outputs": [
    {
     "name": "stdout",
     "output_type": "stream",
     "text": [
      "Please enter your MySQL password········\n"
     ]
    }
   ],
   "source": [
    "user = getpass.getuser()\n",
    "password = getpass.getpass(prompt=\"Please enter your MySQL password\",stream=None)\n",
    "engine = create_engine('mysql+pymysql://{}:{}@localhost:3306/classicmodels'.format(user,password))\n",
    "connection = pymysql.connect(host='localhost',user=user,password=password,db='classicmodels')"
   ]
  },
  {
   "cell_type": "code",
   "execution_count": 3,
   "metadata": {},
   "outputs": [],
   "source": [
    "a=\"\"\"SELECT 'Customers' AS 'Table', COUNT(*) AS Num_Rows FROM customers\n",
    "UNION\n",
    "SELECT 'Employees' AS 'Table', COUNT(*) AS Num_Rows FROM employees\n",
    "UNION\n",
    "SELECT 'Offices' AS 'Table', COUNT(*) AS Num_Rows FROM offices\n",
    "UNION\n",
    "SELECT 'Order Details' AS 'Table', COUNT(*) AS Num_Rows FROM orderdetails\n",
    "UNION\n",
    "SELECT 'Orders' AS 'Table', COUNT(*) AS Num_Rows FROM orders\n",
    "UNION\n",
    "SELECT 'Payments' AS 'Table', COUNT(*) AS Num_Rows FROM payments\n",
    "UNION\n",
    "SELECT 'Product Lines' AS 'Table', COUNT(*) AS Num_Rows FROM productlines\n",
    "UNION\n",
    "SELECT 'Products' AS 'Table', COUNT(*) AS Num_Rows FROM products;\"\"\" "
   ]
  },
  {
   "cell_type": "code",
   "execution_count": 4,
   "metadata": {},
   "outputs": [],
   "source": [
    "rowcount=pd.read_sql_query(a,engine)"
   ]
  },
  {
   "cell_type": "code",
   "execution_count": 5,
   "metadata": {},
   "outputs": [],
   "source": [
    "pd.DataFrame(rowcount, columns=['Table', 'Num_Rows' ])\n",
    "rowcount.sort_values(by='Num_Rows', ascending=False, inplace=True)"
   ]
  },
  {
   "cell_type": "code",
   "execution_count": 6,
   "metadata": {},
   "outputs": [
    {
     "data": {
      "text/html": [
       "<div>\n",
       "<style scoped>\n",
       "    .dataframe tbody tr th:only-of-type {\n",
       "        vertical-align: middle;\n",
       "    }\n",
       "\n",
       "    .dataframe tbody tr th {\n",
       "        vertical-align: top;\n",
       "    }\n",
       "\n",
       "    .dataframe thead th {\n",
       "        text-align: right;\n",
       "    }\n",
       "</style>\n",
       "<table border=\"1\" class=\"dataframe\">\n",
       "  <thead>\n",
       "    <tr style=\"text-align: right;\">\n",
       "      <th></th>\n",
       "      <th>Table</th>\n",
       "      <th>Num_Rows</th>\n",
       "    </tr>\n",
       "  </thead>\n",
       "  <tbody>\n",
       "    <tr>\n",
       "      <th>3</th>\n",
       "      <td>Order Details</td>\n",
       "      <td>2996</td>\n",
       "    </tr>\n",
       "    <tr>\n",
       "      <th>4</th>\n",
       "      <td>Orders</td>\n",
       "      <td>326</td>\n",
       "    </tr>\n",
       "    <tr>\n",
       "      <th>5</th>\n",
       "      <td>Payments</td>\n",
       "      <td>273</td>\n",
       "    </tr>\n",
       "    <tr>\n",
       "      <th>0</th>\n",
       "      <td>Customers</td>\n",
       "      <td>122</td>\n",
       "    </tr>\n",
       "    <tr>\n",
       "      <th>7</th>\n",
       "      <td>Products</td>\n",
       "      <td>110</td>\n",
       "    </tr>\n",
       "    <tr>\n",
       "      <th>1</th>\n",
       "      <td>Employees</td>\n",
       "      <td>23</td>\n",
       "    </tr>\n",
       "    <tr>\n",
       "      <th>2</th>\n",
       "      <td>Offices</td>\n",
       "      <td>7</td>\n",
       "    </tr>\n",
       "    <tr>\n",
       "      <th>6</th>\n",
       "      <td>Product Lines</td>\n",
       "      <td>7</td>\n",
       "    </tr>\n",
       "  </tbody>\n",
       "</table>\n",
       "</div>"
      ],
      "text/plain": [
       "           Table  Num_Rows\n",
       "3  Order Details      2996\n",
       "4         Orders       326\n",
       "5       Payments       273\n",
       "0      Customers       122\n",
       "7       Products       110\n",
       "1      Employees        23\n",
       "2        Offices         7\n",
       "6  Product Lines         7"
      ]
     },
     "execution_count": 6,
     "metadata": {},
     "output_type": "execute_result"
    }
   ],
   "source": [
    "rowcount"
   ]
  },
  {
   "cell_type": "code",
   "execution_count": 7,
   "metadata": {},
   "outputs": [],
   "source": [
    "df = pd.DataFrame(rowcount)"
   ]
  },
  {
   "cell_type": "code",
   "execution_count": 8,
   "metadata": {},
   "outputs": [
    {
     "data": {
      "image/png": "[encoded data removed]",
      "text/plain": [
       "<Figure size 432x288 with 1 Axes>"
      ]
     },
     "metadata": {
      "needs_background": "light"
     },
     "output_type": "display_data"
    }
   ],
   "source": [
    "df.plot.bar(x='Table',y='Num_Rows',legend=None,title=\"Number of records by table\");"
   ]
  }
 ],
 "metadata": {
  "kernelspec": {
   "display_name": "Python 3 (ipykernel)",
   "language": "python",
   "name": "python3"
  },
  "language_info": {
   "codemirror_mode": {
    "name": "ipython",
    "version": 3
   },
   "file_extension": ".py",
   "mimetype": "text/x-python",
   "name": "python",
   "nbconvert_exporter": "python",
   "pygments_lexer": "ipython3",
   "version": "3.9.12"
  }
 },
 "nbformat": 4,
 "nbformat_minor": 2
}
