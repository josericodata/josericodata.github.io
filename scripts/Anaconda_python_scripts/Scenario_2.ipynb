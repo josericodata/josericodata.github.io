{
 "cells": [
  {
   "cell_type": "code",
   "execution_count": 1,
   "metadata": {},
   "outputs": [],
   "source": [
    "import pymysql #Allows the connection to mysql\n",
    "import pandas as pd #We need pandas to obtain a Data Frame\n",
    "import getpass # function to prompt a cell to write down our password\n",
    "from sqlalchemy import create_engine #Method to produce an engine based on a URL, that includes, host, user....\n",
    "from sqlalchemy.types import Date #Method to get the date\n",
    "import os #It allows us to set a directory to print our files\n"
   ]
  },
  {
   "cell_type": "code",
   "execution_count": 2,
   "metadata": {},
   "outputs": [
    {
     "name": "stdout",
     "output_type": "stream",
     "text": [
      "Please enter your MySQL password········\n"
     ]
    }
   ],
   "source": [
    "user = getpass.getuser()\n",
    "password = getpass.getpass(prompt=\"Please enter your MySQL password\",stream=None)\n",
    "engine = create_engine('mysql+pymysql://{}:{}@localhost:3306/classicmodels'.format(user,password))\n",
    "connection = pymysql.connect(host='localhost',user=user,password=password,db='classicmodels')"
   ]
  },
  {
   "cell_type": "code",
   "execution_count": 3,
   "metadata": {},
   "outputs": [],
   "source": [
    "today = pd.Timestamp('today')"
   ]
  },
  {
   "cell_type": "code",
   "execution_count": 4,
   "metadata": {},
   "outputs": [],
   "source": [
    "a=\"\"\"SELECT * FROM customers;\"\"\"\n",
    "b=\"\"\"SELECT * FROM employees;\"\"\" \n",
    "c=\"\"\"SELECT * FROM offices;\"\"\" \n",
    "d=\"\"\"SELECT * FROM orderdetails;\"\"\" \n",
    "e=\"\"\"SELECT * FROM orders;\"\"\" \n",
    "f=\"\"\"SELECT * FROM payments;\"\"\" \n",
    "g=\"\"\"SELECT * FROM productlines;\"\"\" \n",
    "h=\"\"\"SELECT * FROM products;\"\"\""
   ]
  },
  {
   "cell_type": "code",
   "execution_count": 5,
   "metadata": {},
   "outputs": [],
   "source": [
    "customers=pd.read_sql_query(a,engine)\n",
    "employees=pd.read_sql_query(b,engine)\n",
    "offices=pd.read_sql_query(c,engine)\n",
    "orderdetails=pd.read_sql_query(d,engine)\n",
    "orders=pd.read_sql_query(e,engine)\n",
    "payments=pd.read_sql_query(f,engine)\n",
    "productlines=pd.read_sql_query(g,engine)\n",
    "products=pd.read_sql_query(h,engine)"
   ]
  },
  {
   "cell_type": "code",
   "execution_count": 6,
   "metadata": {
    "scrolled": false
   },
   "outputs": [],
   "source": [
    "os.chdir('C:\\\\Users\\\\jose\\\\OneDrive - Dublin Business School (DBS)\\\\Desktop\\\\Files') #Change it to your directory"
   ]
  },
  {
   "cell_type": "code",
   "execution_count": 7,
   "metadata": {},
   "outputs": [],
   "source": [
    "writer=pd.ExcelWriter('customers_{:%Y-%m-%d}.xlsx'.format(today),engine='xlsxwriter')\n",
    "customers.to_excel(writer,sheet_name='customers',index=False)\n",
    "writer.save()\n",
    "\n",
    "writer=pd.ExcelWriter('employees_{:%Y-%m-%d}.xlsx'.format(today),engine='xlsxwriter')\n",
    "employees.to_excel(writer,sheet_name='employees',index=False)\n",
    "writer.save() \n",
    "\n",
    "writer=pd.ExcelWriter('offices_{:%Y-%m-%d}.xlsx'.format(today),engine='xlsxwriter')\n",
    "offices.to_excel(writer,sheet_name='offices',index=False)\n",
    "writer.save()\n",
    "\n",
    "writer=pd.ExcelWriter('orderdetails_{:%Y-%m-%d}.xlsx'.format(today),engine='xlsxwriter')\n",
    "orderdetails.to_excel(writer,sheet_name='orderdetails',index=False)\n",
    "writer.save() \n",
    "\n",
    "writer=pd.ExcelWriter('orders_{:%Y-%m-%d}.xlsx'.format(today),engine='xlsxwriter')\n",
    "orders.to_excel(writer,sheet_name='orders',index=False)\n",
    "writer.save() \n",
    "\n",
    "writer=pd.ExcelWriter('payments_{:%Y-%m-%d}.xlsx'.format(today),engine='xlsxwriter')\n",
    "payments.to_excel(writer,sheet_name='payments',index=False)\n",
    "writer.save() \n",
    "\n",
    "writer=pd.ExcelWriter('productlines_{:%Y-%m-%d}.xlsx'.format(today),engine='xlsxwriter')\n",
    "productlines.to_excel(writer,sheet_name='productlines',index=False)\n",
    "writer.save() \n",
    "\n",
    "writer=pd.ExcelWriter('products_{:%Y-%m-%d}.xlsx'.format(today),engine='xlsxwriter')\n",
    "products.to_excel(writer,sheet_name='products',index=False)\n",
    "writer.save() "
   ]
  }
 ],
 "metadata": {
  "kernelspec": {
   "display_name": "Python 3 (ipykernel)",
   "language": "python",
   "name": "python3"
  },
  "language_info": {
   "codemirror_mode": {
    "name": "ipython",
    "version": 3
   },
   "file_extension": ".py",
   "mimetype": "text/x-python",
   "name": "python",
   "nbconvert_exporter": "python",
   "pygments_lexer": "ipython3",
   "version": "3.9.12"
  }
 },
 "nbformat": 4,
 "nbformat_minor": 2
}
