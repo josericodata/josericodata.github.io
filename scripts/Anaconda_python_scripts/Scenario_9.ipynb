{
 "cells": [
  {
   "cell_type": "code",
   "execution_count": 1,
   "metadata": {},
   "outputs": [],
   "source": [
    "import pymysql #Allows the connection to mysql\n",
    "import pandas as pd #We need pandas to obtain a Data Frame\n",
    "import getpass # function to prompt a cell to write down our password\n",
    "from sqlalchemy import create_engine #Method to produce an engine based on a URL, that includes, host, user....\n",
    "import matplotlib.pyplot as plt #Importing this library for plot generation\n",
    "import pylab #It allows to manipulate matplotlib labels\n",
    "import warnings #It helps to get rid of annoying warnings"
   ]
  },
  {
   "cell_type": "code",
   "execution_count": 2,
   "metadata": {},
   "outputs": [
    {
     "name": "stdout",
     "output_type": "stream",
     "text": [
      "Please enter your MySQL password········\n"
     ]
    }
   ],
   "source": [
    "user = getpass.getuser()\n",
    "password = getpass.getpass(prompt=\"Please enter your MySQL password\",stream=None)\n",
    "engine = create_engine('mysql+pymysql://{}:{}@localhost:3306/classicmodels'.format(user,password))\n",
    "connection = pymysql.connect(host='localhost',user=user,password=password,db='classicmodels')"
   ]
  },
  {
   "cell_type": "code",
   "execution_count": 3,
   "metadata": {},
   "outputs": [],
   "source": [
    "a=\"\"\"SELECT \n",
    "        CONCAT(firstName, ' ', lastName) AS employee,\n",
    "        SUM(quantityOrdered*priceEach) AS totalSales\n",
    "FROM    orderdetails JOIN orders USING (orderNumber)\n",
    "        JOIN customers USING (customerNumber)\n",
    "        JOIN employees ON\n",
    "        customers.salesRepEmployeeNumber = employees.employeeNumber\n",
    "GROUP BY    salesRepEmployeeNumber\n",
    "ORDER BY    totalSales DESC;\"\"\" "
   ]
  },
  {
   "cell_type": "code",
   "execution_count": 4,
   "metadata": {},
   "outputs": [],
   "source": [
    "salesRep=pd.read_sql_query(a,engine)"
   ]
  },
  {
   "cell_type": "code",
   "execution_count": 5,
   "metadata": {
    "scrolled": true
   },
   "outputs": [
    {
     "data": {
      "text/html": [
       "<div>\n",
       "<style scoped>\n",
       "    .dataframe tbody tr th:only-of-type {\n",
       "        vertical-align: middle;\n",
       "    }\n",
       "\n",
       "    .dataframe tbody tr th {\n",
       "        vertical-align: top;\n",
       "    }\n",
       "\n",
       "    .dataframe thead th {\n",
       "        text-align: right;\n",
       "    }\n",
       "</style>\n",
       "<table border=\"1\" class=\"dataframe\">\n",
       "  <thead>\n",
       "    <tr style=\"text-align: right;\">\n",
       "      <th></th>\n",
       "      <th>employee</th>\n",
       "      <th>totalSales</th>\n",
       "    </tr>\n",
       "  </thead>\n",
       "  <tbody>\n",
       "    <tr>\n",
       "      <th>0</th>\n",
       "      <td>Gerard Hernandez</td>\n",
       "      <td>1258577.81</td>\n",
       "    </tr>\n",
       "    <tr>\n",
       "      <th>1</th>\n",
       "      <td>Leslie Jennings</td>\n",
       "      <td>1081530.54</td>\n",
       "    </tr>\n",
       "    <tr>\n",
       "      <th>2</th>\n",
       "      <td>Pamela Castillo</td>\n",
       "      <td>868220.55</td>\n",
       "    </tr>\n",
       "    <tr>\n",
       "      <th>3</th>\n",
       "      <td>Larry Bott</td>\n",
       "      <td>732096.79</td>\n",
       "    </tr>\n",
       "    <tr>\n",
       "      <th>4</th>\n",
       "      <td>Barry Jones</td>\n",
       "      <td>704853.91</td>\n",
       "    </tr>\n",
       "    <tr>\n",
       "      <th>5</th>\n",
       "      <td>George Vanauf</td>\n",
       "      <td>669377.05</td>\n",
       "    </tr>\n",
       "    <tr>\n",
       "      <th>6</th>\n",
       "      <td>Peter Marsh</td>\n",
       "      <td>584593.76</td>\n",
       "    </tr>\n",
       "    <tr>\n",
       "      <th>7</th>\n",
       "      <td>Loui Bondur</td>\n",
       "      <td>569485.75</td>\n",
       "    </tr>\n",
       "    <tr>\n",
       "      <th>8</th>\n",
       "      <td>Andy Fixter</td>\n",
       "      <td>562582.59</td>\n",
       "    </tr>\n",
       "    <tr>\n",
       "      <th>9</th>\n",
       "      <td>Steve Patterson</td>\n",
       "      <td>505875.42</td>\n",
       "    </tr>\n",
       "    <tr>\n",
       "      <th>10</th>\n",
       "      <td>Foon Yue Tseng</td>\n",
       "      <td>488212.67</td>\n",
       "    </tr>\n",
       "    <tr>\n",
       "      <th>11</th>\n",
       "      <td>Mami Nishi</td>\n",
       "      <td>457110.07</td>\n",
       "    </tr>\n",
       "    <tr>\n",
       "      <th>12</th>\n",
       "      <td>Martin Gerard</td>\n",
       "      <td>387477.47</td>\n",
       "    </tr>\n",
       "    <tr>\n",
       "      <th>13</th>\n",
       "      <td>Julie Firrelli</td>\n",
       "      <td>386663.20</td>\n",
       "    </tr>\n",
       "    <tr>\n",
       "      <th>14</th>\n",
       "      <td>Leslie Thompson</td>\n",
       "      <td>347533.03</td>\n",
       "    </tr>\n",
       "  </tbody>\n",
       "</table>\n",
       "</div>"
      ],
      "text/plain": [
       "            employee  totalSales\n",
       "0   Gerard Hernandez  1258577.81\n",
       "1    Leslie Jennings  1081530.54\n",
       "2    Pamela Castillo   868220.55\n",
       "3         Larry Bott   732096.79\n",
       "4        Barry Jones   704853.91\n",
       "5      George Vanauf   669377.05\n",
       "6        Peter Marsh   584593.76\n",
       "7        Loui Bondur   569485.75\n",
       "8        Andy Fixter   562582.59\n",
       "9    Steve Patterson   505875.42\n",
       "10    Foon Yue Tseng   488212.67\n",
       "11        Mami Nishi   457110.07\n",
       "12     Martin Gerard   387477.47\n",
       "13    Julie Firrelli   386663.20\n",
       "14   Leslie Thompson   347533.03"
      ]
     },
     "execution_count": 5,
     "metadata": {},
     "output_type": "execute_result"
    }
   ],
   "source": [
    "pd.DataFrame(salesRep, columns=['employee', 'totalSales' ])#Creating the data frame"
   ]
  },
  {
   "cell_type": "code",
   "execution_count": 6,
   "metadata": {},
   "outputs": [
    {
     "data": {
      "image/png": "[encoded data removed]",
      "text/plain": [
       "<Figure size 432x288 with 1 Axes>"
      ]
     },
     "metadata": {
      "needs_background": "light"
     },
     "output_type": "display_data"
    }
   ],
   "source": [
    "# Plotting the scatter chart for above dataframe\n",
    "salesRep.plot.scatter(x='employee',y='totalSales',s=100)\n",
    "ax = plt.gca()\n",
    "ax.tick_params(axis='x', labelrotation = 45)\n",
    "current_values = plt.gca().get_yticks()\n",
    "warnings.filterwarnings('ignore')\n",
    "plt.gca().set_yticklabels(['{:.0f}'.format(x) for x in current_values]);"
   ]
  }
 ],
 "metadata": {
  "kernelspec": {
   "display_name": "Python 3 (ipykernel)",
   "language": "python",
   "name": "python3"
  },
  "language_info": {
   "codemirror_mode": {
    "name": "ipython",
    "version": 3
   },
   "file_extension": ".py",
   "mimetype": "text/x-python",
   "name": "python",
   "nbconvert_exporter": "python",
   "pygments_lexer": "ipython3",
   "version": "3.9.12"
  }
 },
 "nbformat": 4,
 "nbformat_minor": 2
}
